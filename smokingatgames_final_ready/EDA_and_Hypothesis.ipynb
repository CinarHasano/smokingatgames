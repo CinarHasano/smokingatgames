{
 "cells": [
  {
   "cell_type": "markdown",
   "id": "2b44abe8",
   "metadata": {},
   "source": [
    "# Exploratory Data Analysis and Hypothesis Testing"
   ]
  },
  {
   "cell_type": "markdown",
   "id": "c2eb2c8f",
   "metadata": {},
   "source": [
    "This notebook explores the relationship between gaming, sleep duration, and cigarette consumption."
   ]
  },
  {
   "cell_type": "code",
   "execution_count": null,
   "id": "53a63b29",
   "metadata": {},
   "outputs": [],
   "source": [
    "import pandas as pd\n",
    "import seaborn as sns\n",
    "import matplotlib.pyplot as plt\n",
    "from scipy.stats import pearsonr\n",
    "import statsmodels.api as sm"
   ]
  },
  {
   "cell_type": "code",
   "execution_count": null,
   "id": "59cbacbd",
   "metadata": {},
   "outputs": [],
   "source": [
    "df = pd.read_excel('data(son).xlsx')\n",
    "df.head()"
   ]
  },
  {
   "cell_type": "markdown",
   "id": "a6f799b4",
   "metadata": {},
   "source": [
    "## Correlation Heatmap"
   ]
  },
  {
   "cell_type": "code",
   "execution_count": null,
   "id": "53e981ad",
   "metadata": {},
   "outputs": [],
   "source": [
    "sns.heatmap(df.corr(numeric_only=True), annot=True, cmap='coolwarm', fmt='.2f')\n",
    "plt.title('Correlation Heatmap')\n",
    "plt.show()"
   ]
  },
  {
   "cell_type": "markdown",
   "id": "ba2d939a",
   "metadata": {},
   "source": [
    "## Histogram of Cigarettes Smoked"
   ]
  },
  {
   "cell_type": "code",
   "execution_count": null,
   "id": "d02901b6",
   "metadata": {},
   "outputs": [],
   "source": [
    "sns.histplot(df['cigarettes smoked'], kde=True)\n",
    "plt.title('Histogram of Cigarettes Smoked While Gaming')\n",
    "plt.show()"
   ]
  },
  {
   "cell_type": "markdown",
   "id": "7bfe20da",
   "metadata": {},
   "source": [
    "## Game Hours vs Cigarettes Smoked"
   ]
  },
  {
   "cell_type": "code",
   "execution_count": null,
   "id": "5f643022",
   "metadata": {},
   "outputs": [],
   "source": [
    "sns.regplot(x='Game Hours', y='cigarettes smoked', data=df)\n",
    "plt.title('Game Hours vs Cigarettes Smoked')\n",
    "plt.show()"
   ]
  },
  {
   "cell_type": "markdown",
   "id": "a67e4152",
   "metadata": {},
   "source": [
    "## Game Hours vs Sleep Hours"
   ]
  },
  {
   "cell_type": "code",
   "execution_count": null,
   "id": "c872d882",
   "metadata": {},
   "outputs": [],
   "source": [
    "sns.regplot(x='Game Hours', y='Sleep Hours', data=df)\n",
    "plt.title('Game Hours vs Sleep Hours')\n",
    "plt.show()"
   ]
  },
  {
   "cell_type": "markdown",
   "id": "8a645d75",
   "metadata": {},
   "source": [
    "## Hypothesis 1: Does playing games reduce sleep duration?"
   ]
  },
  {
   "cell_type": "code",
   "execution_count": null,
   "id": "20e7ff87",
   "metadata": {},
   "outputs": [],
   "source": [
    "corr, p = pearsonr(df['Game Hours'], df['Sleep Hours'])\n",
    "print(f'Pearson r: {corr:.2f}, p-value: {p:.4g}')\n",
    "X = sm.add_constant(df['Game Hours'])\n",
    "model = sm.OLS(df['Sleep Hours'], X).fit()\n",
    "print(model.summary())"
   ]
  },
  {
   "cell_type": "markdown",
   "id": "183ba2d7",
   "metadata": {},
   "source": [
    "## Hypothesis 2: Does playing more games increase cigarettes smoked while gaming?"
   ]
  },
  {
   "cell_type": "code",
   "execution_count": null,
   "id": "d13791c5",
   "metadata": {},
   "outputs": [],
   "source": [
    "corr, p = pearsonr(df['Game Hours'], df['cigarettes smoked'])\n",
    "print(f'Pearson r: {corr:.2f}, p-value: {p:.4g}')\n",
    "X = sm.add_constant(df['Game Hours'])\n",
    "model = sm.OLS(df['cigarettes smoked'], X).fit()\n",
    "print(model.summary())"
   ]
  }
 ],
 "metadata": {},
 "nbformat": 4,
 "nbformat_minor": 5
}
