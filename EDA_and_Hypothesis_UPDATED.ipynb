{
 "cells": [
  {
   "cell_type": "markdown",
   "id": "c816ff4f",
   "metadata": {},
   "source": [
    "# Exploratory Data Analysis and Hypothesis Testing"
   ]
  },
  {
   "cell_type": "markdown",
   "id": "fd550fda",
   "metadata": {},
   "source": [
    "This notebook investigates whether certain daily habits—specifically gaming time and sleep duration—have a significant impact on the number of cigarettes smoked while gaming."
   ]
  },
  {
   "cell_type": "code",
   "execution_count": null,
   "id": "8678fdce",
   "metadata": {},
   "outputs": [],
   "source": [
    "import pandas as pd\n",
    "import seaborn as sns\n",
    "import matplotlib.pyplot as plt\n",
    "from scipy.stats import pearsonr\n",
    "import statsmodels.api as sm"
   ]
  },
  {
   "cell_type": "code",
   "execution_count": null,
   "id": "9ea4d404",
   "metadata": {},
   "outputs": [],
   "source": [
    "# Load the data\n",
    "file_path = 'completed_project_data.xlsx'\n",
    "df = pd.read_excel(file_path)\n",
    "df.rename(columns={'Game Hours': 'GameHours', 'cigarettes smoked': 'Cigarettes'}, inplace=True)\n",
    "df.head()"
   ]
  },
  {
   "cell_type": "code",
   "execution_count": null,
   "id": "951bf6d0",
   "metadata": {},
   "outputs": [],
   "source": [
    "df.describe()"
   ]
  },
  {
   "cell_type": "code",
   "execution_count": null,
   "id": "af11a3ed",
   "metadata": {},
   "outputs": [],
   "source": [
    "# Correlation matrix\n",
    "sns.heatmap(df.corr(numeric_only=True), annot=True, cmap='coolwarm', fmt='.2f')\n",
    "plt.title('Correlation Heatmap')\n",
    "plt.show()"
   ]
  },
  {
   "cell_type": "code",
   "execution_count": null,
   "id": "cb379cf2",
   "metadata": {},
   "outputs": [],
   "source": [
    "# Histogram of Cigarettes\n",
    "sns.histplot(df['Cigarettes'], kde=True)\n",
    "plt.title('Distribution of Cigarettes Smoked While Gaming')\n",
    "plt.show()"
   ]
  },
  {
   "cell_type": "code",
   "execution_count": null,
   "id": "10d03bfd",
   "metadata": {},
   "outputs": [],
   "source": [
    "# Scatter plot: GameHours vs Cigarettes\n",
    "sns.regplot(x='GameHours', y='Cigarettes', data=df)\n",
    "plt.title('Game Hours vs Cigarettes')\n",
    "plt.show()"
   ]
  },
  {
   "cell_type": "code",
   "execution_count": null,
   "id": "6acfcf0c",
   "metadata": {},
   "outputs": [],
   "source": [
    "# Scatter plot: SleepHours vs Cigarettes\n",
    "sns.regplot(x='SleepHours', y='Cigarettes', data=df)\n",
    "plt.title('Sleep Hours vs Cigarettes')\n",
    "plt.show()"
   ]
  },
  {
   "cell_type": "markdown",
   "id": "d9ffb76e",
   "metadata": {},
   "source": [
    "## Hypothesis 1: More gaming leads to more cigarettes smoked"
   ]
  },
  {
   "cell_type": "code",
   "execution_count": null,
   "id": "fe6c42fc",
   "metadata": {},
   "outputs": [],
   "source": [
    "corr1, p1 = pearsonr(df['GameHours'], df['Cigarettes'])\n",
    "print(f'Hypothesis 1 - Pearson r: {corr1:.2f}, p-value: {p1:.4g}')"
   ]
  },
  {
   "cell_type": "code",
   "execution_count": null,
   "id": "97a2f179",
   "metadata": {},
   "outputs": [],
   "source": [
    "X1 = sm.add_constant(df['GameHours'])\n",
    "model1 = sm.OLS(df['Cigarettes'], X1).fit()\n",
    "print(model1.summary())"
   ]
  },
  {
   "cell_type": "markdown",
   "id": "726b2928",
   "metadata": {},
   "source": [
    "## Hypothesis 2: Sleeping less leads to more cigarettes smoked"
   ]
  },
  {
   "cell_type": "code",
   "execution_count": null,
   "id": "42dbc1f7",
   "metadata": {},
   "outputs": [],
   "source": [
    "corr2, p2 = pearsonr(df['SleepHours'], df['Cigarettes'])\n",
    "print(f'Hypothesis 2 - Pearson r: {corr2:.2f}, p-value: {p2:.4g}')"
   ]
  },
  {
   "cell_type": "code",
   "execution_count": null,
   "id": "317648f6",
   "metadata": {},
   "outputs": [],
   "source": [
    "X2 = sm.add_constant(df['SleepHours'])\n",
    "model2 = sm.OLS(df['Cigarettes'], X2).fit()\n",
    "print(model2.summary())"
   ]
  }
 ],
 "metadata": {},
 "nbformat": 4,
 "nbformat_minor": 5
}
